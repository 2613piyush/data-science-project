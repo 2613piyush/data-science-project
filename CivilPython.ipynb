import pandas as pd
import matplotlib.pyplot as plt
import seaborn as sns
import numpy as np


df = pd.read_csv(r"/content/drive/MyDrive/Civil_Service_List__Active__20250306 (1).csv")


print("Dataset Information:")
print(df.info())


for col in df.columns:
    if df[col].dtype == 'object':
        df[col] = df[col].fillna("N/A")
    else:
        df[col] = df[col].fillna(0)


cat_cols = ['List Title Desc', 'List Agency Desc', 'Group No']
for col in cat_cols:
    if col in df.columns:
        print(f"\nValue Counts for {col}:")
        print(df[col].value_counts())
